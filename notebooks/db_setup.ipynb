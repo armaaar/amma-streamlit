{
 "cells": [
  {
   "cell_type": "code",
   "execution_count": 1,
   "id": "6818df5f",
   "metadata": {},
   "outputs": [],
   "source": [
    "# Initiate DB\n",
    "from src.db_models.base_model import db\n",
    "from src.db_models.sample import Sample\n",
    "from src.db_models.ml_model import MlModel\n",
    "from src.db_models.prediction import Prediction\n",
    "from src.db_models.test_sample import TestSample\n",
    "\n",
    "# Connect to DB\n",
    "db.connect()\n",
    "# Migrate tables\n",
    "db.create_tables([MlModel, TestSample, Sample, Prediction])\n"
   ]
  },
  {
   "cell_type": "code",
   "execution_count": 2,
   "id": "43ed1e46",
   "metadata": {},
   "outputs": [],
   "source": [
    "# Get data\n",
    "import pandas as pd\n",
    "\n",
    "data = pd.read_csv(\"../models/Boiler_emulator_dataset.csv\")\n",
    "\n",
    "predictions = data[\"Class\"]\n",
    "features = data.drop(columns=['Condition', 'Class'])"
   ]
  },
  {
   "cell_type": "code",
   "execution_count": 3,
   "id": "06f0d58d",
   "metadata": {},
   "outputs": [
    {
     "name": "stderr",
     "output_type": "stream",
     "text": [
      "2025-04-17 18:02:06.689837: I tensorflow/core/util/port.cc:153] oneDNN custom operations are on. You may see slightly different numerical results due to floating-point round-off errors from different computation orders. To turn them off, set the environment variable `TF_ENABLE_ONEDNN_OPTS=0`.\n",
      "2025-04-17 18:02:06.696922: E external/local_xla/xla/stream_executor/cuda/cuda_fft.cc:477] Unable to register cuFFT factory: Attempting to register factory for plugin cuFFT when one has already been registered\n",
      "WARNING: All log messages before absl::InitializeLog() is called are written to STDERR\n",
      "E0000 00:00:1744905726.705536   50320 cuda_dnn.cc:8310] Unable to register cuDNN factory: Attempting to register factory for plugin cuDNN when one has already been registered\n",
      "E0000 00:00:1744905726.708044   50320 cuda_blas.cc:1418] Unable to register cuBLAS factory: Attempting to register factory for plugin cuBLAS when one has already been registered\n",
      "2025-04-17 18:02:06.716878: I tensorflow/core/platform/cpu_feature_guard.cc:210] This TensorFlow binary is optimized to use available CPU instructions in performance-critical operations.\n",
      "To enable the following instructions: AVX2 AVX_VNNI FMA, in other operations, rebuild TensorFlow with the appropriate compiler flags.\n",
      "2025-04-17 18:02:07.909 WARNING streamlit.runtime.caching.cache_data_api: No runtime found, using MemoryCacheStorageManager\n"
     ]
    }
   ],
   "source": [
    "# Create Primary model\n",
    "from src.utils.bucket_utils import upload_file_to_bucket, DATASET_FILE_NAME\n",
    "\n",
    "upload_file_to_bucket(DATASET_FILE_NAME)\n",
    "MlModel.update(is_active=False).execute()\n",
    "for model_file, is_active in [(\"keras_model_1.keras\", False), (\"keras_model_2.keras\", False), (\"keras_model_best.keras\", True)]:\n",
    "    upload_file_to_bucket(model_file)\n",
    "    model_record = MlModel.create(model_path=model_file, is_active=is_active)"
   ]
  },
  {
   "cell_type": "code",
   "execution_count": 4,
   "id": "3e0b2d5e",
   "metadata": {},
   "outputs": [
    {
     "data": {
      "text/html": [
       "<div>\n",
       "<style scoped>\n",
       "    .dataframe tbody tr th:only-of-type {\n",
       "        vertical-align: middle;\n",
       "    }\n",
       "\n",
       "    .dataframe tbody tr th {\n",
       "        vertical-align: top;\n",
       "    }\n",
       "\n",
       "    .dataframe thead th {\n",
       "        text-align: right;\n",
       "    }\n",
       "</style>\n",
       "<table border=\"1\" class=\"dataframe\">\n",
       "  <thead>\n",
       "    <tr style=\"text-align: right;\">\n",
       "      <th></th>\n",
       "      <th>Fuel_Mdot</th>\n",
       "      <th>Tair</th>\n",
       "      <th>Treturn</th>\n",
       "      <th>Tsupply</th>\n",
       "      <th>Water_Mdot</th>\n",
       "    </tr>\n",
       "  </thead>\n",
       "  <tbody>\n",
       "    <tr>\n",
       "      <th>8834</th>\n",
       "      <td>1</td>\n",
       "      <td>283</td>\n",
       "      <td>333.0</td>\n",
       "      <td>343.920469</td>\n",
       "      <td>4.5</td>\n",
       "    </tr>\n",
       "    <tr>\n",
       "      <th>626</th>\n",
       "      <td>1</td>\n",
       "      <td>289</td>\n",
       "      <td>333.0</td>\n",
       "      <td>351.416977</td>\n",
       "      <td>4.0</td>\n",
       "    </tr>\n",
       "    <tr>\n",
       "      <th>20841</th>\n",
       "      <td>2</td>\n",
       "      <td>293</td>\n",
       "      <td>333.0</td>\n",
       "      <td>345.947128</td>\n",
       "      <td>5.0</td>\n",
       "    </tr>\n",
       "    <tr>\n",
       "      <th>5549</th>\n",
       "      <td>3</td>\n",
       "      <td>293</td>\n",
       "      <td>333.0</td>\n",
       "      <td>339.742323</td>\n",
       "      <td>10.0</td>\n",
       "    </tr>\n",
       "    <tr>\n",
       "      <th>13218</th>\n",
       "      <td>3</td>\n",
       "      <td>283</td>\n",
       "      <td>333.0</td>\n",
       "      <td>342.588395</td>\n",
       "      <td>3.5</td>\n",
       "    </tr>\n",
       "    <tr>\n",
       "      <th>...</th>\n",
       "      <td>...</td>\n",
       "      <td>...</td>\n",
       "      <td>...</td>\n",
       "      <td>...</td>\n",
       "      <td>...</td>\n",
       "    </tr>\n",
       "    <tr>\n",
       "      <th>18387</th>\n",
       "      <td>1</td>\n",
       "      <td>289</td>\n",
       "      <td>333.0</td>\n",
       "      <td>335.032964</td>\n",
       "      <td>12.0</td>\n",
       "    </tr>\n",
       "    <tr>\n",
       "      <th>20472</th>\n",
       "      <td>2</td>\n",
       "      <td>289</td>\n",
       "      <td>333.0</td>\n",
       "      <td>340.805189</td>\n",
       "      <td>6.5</td>\n",
       "    </tr>\n",
       "    <tr>\n",
       "      <th>410</th>\n",
       "      <td>1</td>\n",
       "      <td>287</td>\n",
       "      <td>333.0</td>\n",
       "      <td>359.279102</td>\n",
       "      <td>3.5</td>\n",
       "    </tr>\n",
       "    <tr>\n",
       "      <th>21362</th>\n",
       "      <td>2</td>\n",
       "      <td>297</td>\n",
       "      <td>333.0</td>\n",
       "      <td>337.628698</td>\n",
       "      <td>11.0</td>\n",
       "    </tr>\n",
       "    <tr>\n",
       "      <th>3899</th>\n",
       "      <td>2</td>\n",
       "      <td>299</td>\n",
       "      <td>333.0</td>\n",
       "      <td>342.008733</td>\n",
       "      <td>7.5</td>\n",
       "    </tr>\n",
       "  </tbody>\n",
       "</table>\n",
       "<p>6820 rows × 5 columns</p>\n",
       "</div>"
      ],
      "text/plain": [
       "       Fuel_Mdot  Tair  Treturn     Tsupply  Water_Mdot\n",
       "8834           1   283    333.0  343.920469         4.5\n",
       "626            1   289    333.0  351.416977         4.0\n",
       "20841          2   293    333.0  345.947128         5.0\n",
       "5549           3   293    333.0  339.742323        10.0\n",
       "13218          3   283    333.0  342.588395         3.5\n",
       "...          ...   ...      ...         ...         ...\n",
       "18387          1   289    333.0  335.032964        12.0\n",
       "20472          2   289    333.0  340.805189         6.5\n",
       "410            1   287    333.0  359.279102         3.5\n",
       "21362          2   297    333.0  337.628698        11.0\n",
       "3899           2   299    333.0  342.008733         7.5\n",
       "\n",
       "[6820 rows x 5 columns]"
      ]
     },
     "execution_count": 4,
     "metadata": {},
     "output_type": "execute_result"
    }
   ],
   "source": [
    "# Fill DB with data\n",
    "\n",
    "from sklearn.model_selection import train_test_split\n",
    "\n",
    "X_train_full , X_test , y_train_full , y_test = train_test_split(features, predictions, random_state=42)\n",
    "\n",
    "# Insert to DB\n",
    "for index, row in X_test.iterrows():\n",
    "    sample = TestSample.create(\n",
    "        Fuel_Mdot = row[\"Fuel_Mdot\"],\n",
    "        Tair = row[\"Tair\"],\n",
    "        Treturn = row[\"Treturn\"],\n",
    "        Tsupply = row[\"Tsupply\"],\n",
    "        Water_Mdot = row[\"Water_Mdot\"],\n",
    "        prediction = y_test[index])\n",
    "        \n",
    "X_test"
   ]
  },
  {
   "cell_type": "code",
   "execution_count": 5,
   "id": "7e661e22",
   "metadata": {},
   "outputs": [
    {
     "data": {
      "text/plain": [
       "True"
      ]
     },
     "execution_count": 5,
     "metadata": {},
     "output_type": "execute_result"
    }
   ],
   "source": [
    "db.close()"
   ]
  }
 ],
 "metadata": {
  "kernelspec": {
   "display_name": "Python 3 (ipykernel)",
   "language": "python",
   "name": "python3"
  },
  "language_info": {
   "codemirror_mode": {
    "name": "ipython",
    "version": 3
   },
   "file_extension": ".py",
   "mimetype": "text/x-python",
   "name": "python",
   "nbconvert_exporter": "python",
   "pygments_lexer": "ipython3",
   "version": "3.11.11"
  }
 },
 "nbformat": 4,
 "nbformat_minor": 5
}
