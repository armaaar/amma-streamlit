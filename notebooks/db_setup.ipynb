{
 "cells": [
  {
   "cell_type": "code",
   "execution_count": null,
   "id": "6818df5f",
   "metadata": {},
   "outputs": [],
   "source": [
    "# Initiate DB\n",
    "from src.db_models.base_model import db\n",
    "from src.db_models.sample import Sample\n",
    "from src.db_models.ml_model import MlModel\n",
    "from src.db_models.prediction import Prediction\n",
    "from src.db_models.test_sample import TestSample\n",
    "\n",
    "# Connect to DB\n",
    "db.connect()\n",
    "# Migrate tables\n",
    "db.create_tables([MlModel, TestSample, Sample, Prediction])\n"
   ]
  },
  {
   "cell_type": "code",
   "execution_count": null,
   "id": "43ed1e46",
   "metadata": {},
   "outputs": [],
   "source": [
    "# Get data\n",
    "import pandas as pd\n",
    "\n",
    "data = pd.read_csv(\"../data/Boiler_emulator_dataset_new.csv\")\n",
    "\n",
    "predictions = data[\"Class\"]\n",
    "features = data.drop(columns=['Condition', 'Class'])"
   ]
  },
  {
   "cell_type": "code",
   "execution_count": null,
   "id": "06f0d58d",
   "metadata": {},
   "outputs": [],
   "source": [
    "# Create Primary model\n",
    "model_file = \"models/model_v1.pb\"\n",
    "\n",
    "MlModel.update(is_active=False).execute()\n",
    "model_record = MlModel.create(model_path=model_file, is_active=True)"
   ]
  },
  {
   "cell_type": "code",
   "execution_count": null,
   "id": "3e0b2d5e",
   "metadata": {},
   "outputs": [],
   "source": [
    "# Fill DB with data\n",
    "\n",
    "from sklearn.model_selection import train_test_split\n",
    "\n",
    "X_train_full , X_test , y_train_full , y_test = train_test_split(features, predictions, random_state=42)\n",
    "\n",
    "# Insert to DB\n",
    "for index, row in X_test.iterrows():\n",
    "    sample = TestSample.create(\n",
    "        fuel_mdot = row[\"Fuel_Mdot\"],\n",
    "        tair = row[\"Tair\"],\n",
    "        treturn = row[\"Treturn\"],\n",
    "        tsupply = row[\"Tsupply\"],\n",
    "        water_mdot = row[\"Water_Mdot\"])\n",
    "        \n",
    "X_test"
   ]
  },
  {
   "cell_type": "code",
   "execution_count": null,
   "id": "7e661e22",
   "metadata": {},
   "outputs": [],
   "source": [
    "db.close()"
   ]
  }
 ],
 "metadata": {
  "kernelspec": {
   "display_name": "Python 3 (ipykernel)",
   "language": "python",
   "name": "python3"
  },
  "language_info": {
   "codemirror_mode": {
    "name": "ipython",
    "version": 3
   },
   "file_extension": ".py",
   "mimetype": "text/x-python",
   "name": "python",
   "nbconvert_exporter": "python",
   "pygments_lexer": "ipython3",
   "version": "3.8.20"
  }
 },
 "nbformat": 4,
 "nbformat_minor": 5
}
