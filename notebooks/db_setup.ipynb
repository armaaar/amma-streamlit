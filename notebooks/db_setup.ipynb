{
 "cells": [
  {
   "cell_type": "code",
   "execution_count": 1,
   "id": "6818df5f",
   "metadata": {},
   "outputs": [],
   "source": [
    "# Initiate DB\n",
    "from src.db_models.base_model import db\n",
    "from src.db_models.sample import Sample\n",
    "from src.db_models.ml_model import MlModel\n",
    "from src.db_models.prediction import Prediction\n",
    "\n",
    "# Connect to DB\n",
    "db.connect()\n",
    "# Migrate tables\n",
    "db.create_tables([MlModel, Sample, Prediction])\n"
   ]
  },
  {
   "cell_type": "code",
   "execution_count": 2,
   "id": "43ed1e46",
   "metadata": {},
   "outputs": [],
   "source": [
    "# Get data\n",
    "import pandas as pd\n",
    "\n",
    "data = pd.read_csv(\"../models/Boiler_emulator_dataset.csv\")\n",
    "\n",
    "predictions = data[\"Class\"]\n",
    "features = data.drop(columns=['Condition', 'Class'])"
   ]
  },
  {
   "cell_type": "code",
   "execution_count": 3,
   "id": "06f0d58d",
   "metadata": {},
   "outputs": [
    {
     "name": "stderr",
     "output_type": "stream",
     "text": [
      "2025-04-17 18:02:06.689837: I tensorflow/core/util/port.cc:153] oneDNN custom operations are on. You may see slightly different numerical results due to floating-point round-off errors from different computation orders. To turn them off, set the environment variable `TF_ENABLE_ONEDNN_OPTS=0`.\n",
      "2025-04-17 18:02:06.696922: E external/local_xla/xla/stream_executor/cuda/cuda_fft.cc:477] Unable to register cuFFT factory: Attempting to register factory for plugin cuFFT when one has already been registered\n",
      "WARNING: All log messages before absl::InitializeLog() is called are written to STDERR\n",
      "E0000 00:00:1744905726.705536   50320 cuda_dnn.cc:8310] Unable to register cuDNN factory: Attempting to register factory for plugin cuDNN when one has already been registered\n",
      "E0000 00:00:1744905726.708044   50320 cuda_blas.cc:1418] Unable to register cuBLAS factory: Attempting to register factory for plugin cuBLAS when one has already been registered\n",
      "2025-04-17 18:02:06.716878: I tensorflow/core/platform/cpu_feature_guard.cc:210] This TensorFlow binary is optimized to use available CPU instructions in performance-critical operations.\n",
      "To enable the following instructions: AVX2 AVX_VNNI FMA, in other operations, rebuild TensorFlow with the appropriate compiler flags.\n",
      "2025-04-17 18:02:07.909 WARNING streamlit.runtime.caching.cache_data_api: No runtime found, using MemoryCacheStorageManager\n"
     ]
    }
   ],
   "source": [
    "# Create Primary model\n",
    "from src.utils.bucket_utils import upload_file_to_bucket, DATASET_FILE_NAME\n",
    "\n",
    "upload_file_to_bucket(DATASET_FILE_NAME)\n",
    "MlModel.update(is_active=False).execute()\n",
    "for model_file, is_active in [(\"keras_model_1.keras\", False), (\"keras_model_2.keras\", False), (\"keras_model_best.keras\", True)]:\n",
    "    upload_file_to_bucket(model_file)\n",
    "    model_record = MlModel.create(model_path=model_file, is_active=is_active)"
   ]
  },
  {
   "cell_type": "code",
   "execution_count": 5,
   "id": "7e661e22",
   "metadata": {},
   "outputs": [
    {
     "data": {
      "text/plain": [
       "True"
      ]
     },
     "execution_count": 5,
     "metadata": {},
     "output_type": "execute_result"
    }
   ],
   "source": [
    "db.close()"
   ]
  }
 ],
 "metadata": {
  "kernelspec": {
   "display_name": "Python 3 (ipykernel)",
   "language": "python",
   "name": "python3"
  },
  "language_info": {
   "codemirror_mode": {
    "name": "ipython",
    "version": 3
   },
   "file_extension": ".py",
   "mimetype": "text/x-python",
   "name": "python",
   "nbconvert_exporter": "python",
   "pygments_lexer": "ipython3",
   "version": "3.11.11"
  }
 },
 "nbformat": 4,
 "nbformat_minor": 5
}
