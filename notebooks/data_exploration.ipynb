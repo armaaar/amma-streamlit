{
 "cells": [
  {
   "cell_type": "code",
   "execution_count": null,
   "id": "1b7b5767-8e65-4e2e-92c4-4c93851472a3",
   "metadata": {},
   "outputs": [],
   "source": [
    "# Load data\n",
    "\n",
    "import pandas as pd\n",
    "\n",
    "data = pd.read_csv(\"../data/Boiler_emulator_dataset_new.csv\")\n",
    "data"
   ]
  },
  {
   "cell_type": "code",
   "execution_count": null,
   "id": "b05ed134",
   "metadata": {},
   "outputs": [],
   "source": [
    "# Extract classes\n",
    "classes = data[\"Class\"].unique()\n",
    "classes"
   ]
  },
  {
   "cell_type": "code",
   "execution_count": null,
   "id": "9ddd3b18",
   "metadata": {},
   "outputs": [],
   "source": [
    "# Explore condition (Not part of input features)\n",
    "\n",
    "conditions = {}\n",
    "for c in classes:\n",
    "    conditions[c] = data[data[\"Class\"] == c][\"Condition\"].unique()\n",
    "\n",
    "conditions"
   ]
  }
 ],
 "metadata": {
  "kernelspec": {
   "display_name": "Python 3 (ipykernel)",
   "language": "python",
   "name": "python3"
  },
  "language_info": {
   "codemirror_mode": {
    "name": "ipython",
    "version": 3
   },
   "file_extension": ".py",
   "mimetype": "text/x-python",
   "name": "python",
   "nbconvert_exporter": "python",
   "pygments_lexer": "ipython3",
   "version": "3.8.20"
  }
 },
 "nbformat": 4,
 "nbformat_minor": 5
}
