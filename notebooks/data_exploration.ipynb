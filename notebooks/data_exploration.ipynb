{
 "cells": [
  {
   "cell_type": "code",
   "execution_count": 1,
   "id": "1b7b5767-8e65-4e2e-92c4-4c93851472a3",
   "metadata": {},
   "outputs": [
    {
     "data": {
      "text/html": [
       "<div>\n",
       "<style scoped>\n",
       "    .dataframe tbody tr th:only-of-type {\n",
       "        vertical-align: middle;\n",
       "    }\n",
       "\n",
       "    .dataframe tbody tr th {\n",
       "        vertical-align: top;\n",
       "    }\n",
       "\n",
       "    .dataframe thead th {\n",
       "        text-align: right;\n",
       "    }\n",
       "</style>\n",
       "<table border=\"1\" class=\"dataframe\">\n",
       "  <thead>\n",
       "    <tr style=\"text-align: right;\">\n",
       "      <th></th>\n",
       "      <th>Fuel_Mdot</th>\n",
       "      <th>Tair</th>\n",
       "      <th>Treturn</th>\n",
       "      <th>Tsupply</th>\n",
       "      <th>Water_Mdot</th>\n",
       "      <th>Condition</th>\n",
       "      <th>Class</th>\n",
       "    </tr>\n",
       "  </thead>\n",
       "  <tbody>\n",
       "    <tr>\n",
       "      <th>0</th>\n",
       "      <td>1</td>\n",
       "      <td>283</td>\n",
       "      <td>333.0</td>\n",
       "      <td>363.574744</td>\n",
       "      <td>3.0</td>\n",
       "      <td>%=0.05</td>\n",
       "      <td>Lean</td>\n",
       "    </tr>\n",
       "    <tr>\n",
       "      <th>1</th>\n",
       "      <td>1</td>\n",
       "      <td>283</td>\n",
       "      <td>333.0</td>\n",
       "      <td>362.349517</td>\n",
       "      <td>3.0</td>\n",
       "      <td>%=0.1</td>\n",
       "      <td>Nominal</td>\n",
       "    </tr>\n",
       "    <tr>\n",
       "      <th>2</th>\n",
       "      <td>1</td>\n",
       "      <td>283</td>\n",
       "      <td>333.0</td>\n",
       "      <td>361.216941</td>\n",
       "      <td>3.0</td>\n",
       "      <td>%=0.15</td>\n",
       "      <td>ExcessAir</td>\n",
       "    </tr>\n",
       "    <tr>\n",
       "      <th>3</th>\n",
       "      <td>1</td>\n",
       "      <td>283</td>\n",
       "      <td>333.0</td>\n",
       "      <td>360.166890</td>\n",
       "      <td>3.0</td>\n",
       "      <td>%=0.20</td>\n",
       "      <td>ExcessAir</td>\n",
       "    </tr>\n",
       "    <tr>\n",
       "      <th>4</th>\n",
       "      <td>1</td>\n",
       "      <td>283</td>\n",
       "      <td>333.0</td>\n",
       "      <td>359.190662</td>\n",
       "      <td>3.0</td>\n",
       "      <td>%=0.25</td>\n",
       "      <td>ExcessAir</td>\n",
       "    </tr>\n",
       "    <tr>\n",
       "      <th>...</th>\n",
       "      <td>...</td>\n",
       "      <td>...</td>\n",
       "      <td>...</td>\n",
       "      <td>...</td>\n",
       "      <td>...</td>\n",
       "      <td>...</td>\n",
       "      <td>...</td>\n",
       "    </tr>\n",
       "    <tr>\n",
       "      <th>27275</th>\n",
       "      <td>3</td>\n",
       "      <td>303</td>\n",
       "      <td>333.0</td>\n",
       "      <td>341.109962</td>\n",
       "      <td>12.0</td>\n",
       "      <td>Nominal</td>\n",
       "      <td>Nominal</td>\n",
       "    </tr>\n",
       "    <tr>\n",
       "      <th>27276</th>\n",
       "      <td>4</td>\n",
       "      <td>303</td>\n",
       "      <td>333.0</td>\n",
       "      <td>341.112750</td>\n",
       "      <td>12.0</td>\n",
       "      <td>Nominal</td>\n",
       "      <td>Nominal</td>\n",
       "    </tr>\n",
       "    <tr>\n",
       "      <th>27277</th>\n",
       "      <td>1</td>\n",
       "      <td>303</td>\n",
       "      <td>333.0</td>\n",
       "      <td>340.764696</td>\n",
       "      <td>12.5</td>\n",
       "      <td>Nominal</td>\n",
       "      <td>Nominal</td>\n",
       "    </tr>\n",
       "    <tr>\n",
       "      <th>27278</th>\n",
       "      <td>3</td>\n",
       "      <td>303</td>\n",
       "      <td>333.0</td>\n",
       "      <td>340.786085</td>\n",
       "      <td>12.5</td>\n",
       "      <td>Nominal</td>\n",
       "      <td>Nominal</td>\n",
       "    </tr>\n",
       "    <tr>\n",
       "      <th>27279</th>\n",
       "      <td>4</td>\n",
       "      <td>303</td>\n",
       "      <td>333.0</td>\n",
       "      <td>340.788762</td>\n",
       "      <td>12.5</td>\n",
       "      <td>Nominal</td>\n",
       "      <td>Nominal</td>\n",
       "    </tr>\n",
       "  </tbody>\n",
       "</table>\n",
       "<p>27280 rows × 7 columns</p>\n",
       "</div>"
      ],
      "text/plain": [
       "       Fuel_Mdot  Tair  Treturn     Tsupply  Water_Mdot Condition      Class\n",
       "0              1   283    333.0  363.574744         3.0    %=0.05       Lean\n",
       "1              1   283    333.0  362.349517         3.0     %=0.1    Nominal\n",
       "2              1   283    333.0  361.216941         3.0    %=0.15  ExcessAir\n",
       "3              1   283    333.0  360.166890         3.0    %=0.20  ExcessAir\n",
       "4              1   283    333.0  359.190662         3.0    %=0.25  ExcessAir\n",
       "...          ...   ...      ...         ...         ...       ...        ...\n",
       "27275          3   303    333.0  341.109962        12.0   Nominal    Nominal\n",
       "27276          4   303    333.0  341.112750        12.0   Nominal    Nominal\n",
       "27277          1   303    333.0  340.764696        12.5   Nominal    Nominal\n",
       "27278          3   303    333.0  340.786085        12.5   Nominal    Nominal\n",
       "27279          4   303    333.0  340.788762        12.5   Nominal    Nominal\n",
       "\n",
       "[27280 rows x 7 columns]"
      ]
     },
     "execution_count": 1,
     "metadata": {},
     "output_type": "execute_result"
    }
   ],
   "source": [
    "# Load data\n",
    "import pandas as pd\n",
    "\n",
    "\n",
    "data = pd.read_csv(\"../models/Boiler_emulator_dataset.csv\")\n",
    "data"
   ]
  },
  {
   "cell_type": "code",
   "execution_count": 2,
   "id": "b05ed134",
   "metadata": {},
   "outputs": [
    {
     "data": {
      "text/plain": [
       "array(['Lean', 'Nominal', 'ExcessAir', 'Fouling', 'Scaling'], dtype=object)"
      ]
     },
     "execution_count": 2,
     "metadata": {},
     "output_type": "execute_result"
    }
   ],
   "source": [
    "# Extract classes\n",
    "classes = data[\"Class\"].unique()\n",
    "classes"
   ]
  },
  {
   "cell_type": "code",
   "execution_count": 3,
   "id": "9ddd3b18",
   "metadata": {},
   "outputs": [
    {
     "data": {
      "text/plain": [
       "{'Lean': array(['%=0.05'], dtype=object),\n",
       " 'Nominal': array(['%=0.1', 'Nominal'], dtype=object),\n",
       " 'ExcessAir': array(['%=0.15', '%=0.20', '%=0.25', '%=0.3', '%=0.35', '%=0.40',\n",
       "        '%=0.45', '%=0.50'], dtype=object),\n",
       " 'Fouling': array(['F = 0.01', 'F = 0.06', 'F = 0.11', 'F = 0.16', 'F = 0.21',\n",
       "        'F = 0.26', 'F = 0.31', 'F = 0.36', 'F = 0.41', 'F = 0.46'],\n",
       "       dtype=object),\n",
       " 'Scaling': array(['S = 0.01', 'S = 0.06', 'S = 0.11', 'S = 0.16', 'S = 0.21',\n",
       "        'S = 0.26', 'S = 0.31', 'S = 0.36', 'S = 0.41', 'S = 0.46'],\n",
       "       dtype=object)}"
      ]
     },
     "execution_count": 3,
     "metadata": {},
     "output_type": "execute_result"
    }
   ],
   "source": [
    "# Explore condition (Not part of input features)\n",
    "\n",
    "conditions = {}\n",
    "for c in classes:\n",
    "    conditions[c] = data[data[\"Class\"] == c][\"Condition\"].unique()\n",
    "\n",
    "conditions"
   ]
  },
  {
   "cell_type": "code",
   "execution_count": 4,
   "id": "cf77b703",
   "metadata": {},
   "outputs": [
    {
     "name": "stderr",
     "output_type": "stream",
     "text": [
      "2025-04-17 19:41:42.151834: I tensorflow/core/util/port.cc:153] oneDNN custom operations are on. You may see slightly different numerical results due to floating-point round-off errors from different computation orders. To turn them off, set the environment variable `TF_ENABLE_ONEDNN_OPTS=0`.\n",
      "2025-04-17 19:41:42.165897: E external/local_xla/xla/stream_executor/cuda/cuda_fft.cc:477] Unable to register cuFFT factory: Attempting to register factory for plugin cuFFT when one has already been registered\n",
      "WARNING: All log messages before absl::InitializeLog() is called are written to STDERR\n",
      "E0000 00:00:1744911702.183231  102144 cuda_dnn.cc:8310] Unable to register cuDNN factory: Attempting to register factory for plugin cuDNN when one has already been registered\n",
      "E0000 00:00:1744911702.188249  102144 cuda_blas.cc:1418] Unable to register cuBLAS factory: Attempting to register factory for plugin cuBLAS when one has already been registered\n",
      "2025-04-17 19:41:42.206106: I tensorflow/core/platform/cpu_feature_guard.cc:210] This TensorFlow binary is optimized to use available CPU instructions in performance-critical operations.\n",
      "To enable the following instructions: AVX2 AVX_VNNI FMA, in other operations, rebuild TensorFlow with the appropriate compiler flags.\n",
      "/tmp/ipykernel_102144/2005996696.py:14: FutureWarning: Setting an item of incompatible dtype is deprecated and will raise in a future error of pandas. Value '[0.         0.         0.33333333 ... 0.         0.33333333 0.33333333]' has dtype incompatible with int64, please explicitly cast to a compatible dtype first.\n",
      "  X_valid[:] = scaler.transform(X_valid)\n",
      "/tmp/ipykernel_102144/2005996696.py:14: FutureWarning: Setting an item of incompatible dtype is deprecated and will raise in a future error of pandas. Value '[0.  0.3 0.5 ... 0.2 0.7 0.8]' has dtype incompatible with int64, please explicitly cast to a compatible dtype first.\n",
      "  X_valid[:] = scaler.transform(X_valid)\n"
     ]
    },
    {
     "name": "stdout",
     "output_type": "stream",
     "text": [
      "['Class_ExcessAir' 'Class_Fouling' 'Class_Lean' 'Class_Nominal'\n",
      " 'Class_Scaling']\n"
     ]
    },
    {
     "name": "stderr",
     "output_type": "stream",
     "text": [
      "I0000 00:00:1744911704.947649  102144 gpu_device.cc:2022] Created device /job:localhost/replica:0/task:0/device:GPU:0 with 13512 MB memory:  -> device: 0, name: NVIDIA GeForce RTX 4080, pci bus id: 0000:01:00.0, compute capability: 8.9\n",
      "WARNING: All log messages before absl::InitializeLog() is called are written to STDERR\n",
      "I0000 00:00:1744911706.848247  102249 service.cc:148] XLA service 0x7f425401b000 initialized for platform CUDA (this does not guarantee that XLA will be used). Devices:\n",
      "I0000 00:00:1744911706.848294  102249 service.cc:156]   StreamExecutor device (0): NVIDIA GeForce RTX 4080, Compute Capability 8.9\n",
      "2025-04-17 19:41:46.863203: I tensorflow/compiler/mlir/tensorflow/utils/dump_mlir_util.cc:268] disabling MLIR crash reproducer, set env var `MLIR_CRASH_REPRODUCER_DIRECTORY` to enable.\n",
      "I0000 00:00:1744911706.887113  102249 cuda_dnn.cc:529] Loaded cuDNN version 90300\n"
     ]
    },
    {
     "name": "stdout",
     "output_type": "stream",
     "text": [
      "\u001b[1m 60/214\u001b[0m \u001b[32m━━━━━\u001b[0m\u001b[37m━━━━━━━━━━━━━━━\u001b[0m \u001b[1m0s\u001b[0m 3ms/step - accuracy: 0.9004 - f1_score: 0.8376 - loss: 0.1937 - precision_1: 0.9005 - recall_1: 0.8989"
     ]
    },
    {
     "name": "stderr",
     "output_type": "stream",
     "text": [
      "I0000 00:00:1744911707.101209  102249 device_compiler.h:188] Compiled cluster using XLA!  This line is logged at most once for the lifetime of the process.\n"
     ]
    },
    {
     "name": "stdout",
     "output_type": "stream",
     "text": [
      "\u001b[1m214/214\u001b[0m \u001b[32m━━━━━━━━━━━━━━━━━━━━\u001b[0m\u001b[37m\u001b[0m \u001b[1m1s\u001b[0m 3ms/step - accuracy: 0.9020 - f1_score: 0.8270 - loss: 0.1855 - precision_1: 0.9027 - recall_1: 0.9006\n"
     ]
    }
   ],
   "source": [
    "from tensorflow.keras.models import load_model\n",
    "\n",
    "\n",
    "from sklearn.model_selection import train_test_split\n",
    "from sklearn.preprocessing import OneHotEncoder, MinMaxScaler\n",
    "\n",
    "predictions = data[\"Class\"]\n",
    "features = data.drop(columns=['Condition', 'Class'])\n",
    "\n",
    "_, X_valid, _, y_valid = train_test_split(features, predictions, random_state=42)\n",
    "\n",
    "scaler = MinMaxScaler()\n",
    "scaler = scaler.fit(features)\n",
    "X_valid[:] = scaler.transform(X_valid)\n",
    "\n",
    "\n",
    "one_hot_encoder = OneHotEncoder(sparse_output=False)\n",
    "target_df= pd.DataFrame(predictions)\n",
    "one_hot_encoder.fit(target_df)\n",
    "y_valid = one_hot_encoder.transform(pd.DataFrame(y_valid))\n",
    "print(one_hot_encoder.get_feature_names_out(['Class']))\n",
    "\n",
    "\n",
    "model = load_model('../models/keras_model_2.keras')\n",
    "\n",
    "\n",
    "x = model.evaluate(X_valid, y_valid)"
   ]
  },
  {
   "cell_type": "code",
   "execution_count": 5,
   "id": "5a8274e4",
   "metadata": {},
   "outputs": [
    {
     "data": {
      "text/html": [
       "<div>\n",
       "<style scoped>\n",
       "    .dataframe tbody tr th:only-of-type {\n",
       "        vertical-align: middle;\n",
       "    }\n",
       "\n",
       "    .dataframe tbody tr th {\n",
       "        vertical-align: top;\n",
       "    }\n",
       "\n",
       "    .dataframe thead th {\n",
       "        text-align: right;\n",
       "    }\n",
       "</style>\n",
       "<table border=\"1\" class=\"dataframe\">\n",
       "  <thead>\n",
       "    <tr style=\"text-align: right;\">\n",
       "      <th></th>\n",
       "      <th>loss</th>\n",
       "      <th>accuracy</th>\n",
       "      <th>precision</th>\n",
       "      <th>recall</th>\n",
       "    </tr>\n",
       "  </thead>\n",
       "  <tbody>\n",
       "    <tr>\n",
       "      <th>0</th>\n",
       "      <td>0.179484</td>\n",
       "      <td>0.904106</td>\n",
       "      <td>0.905217</td>\n",
       "      <td>0.903226</td>\n",
       "    </tr>\n",
       "  </tbody>\n",
       "</table>\n",
       "</div>"
      ],
      "text/plain": [
       "       loss  accuracy  precision    recall\n",
       "0  0.179484  0.904106   0.905217  0.903226"
      ]
     },
     "execution_count": 5,
     "metadata": {},
     "output_type": "execute_result"
    }
   ],
   "source": [
    "pd.DataFrame([{\n",
    "    \"loss\": x[0],\n",
    "    \"accuracy\": x[1],\n",
    "    \"precision\": x[2],\n",
    "    \"recall\": x[3],\n",
    "    }])"
   ]
  },
  {
   "cell_type": "code",
   "execution_count": 7,
   "metadata": {},
   "outputs": [
    {
     "name": "stdout",
     "output_type": "stream",
     "text": [
      "\u001b[1m214/214\u001b[0m \u001b[32m━━━━━━━━━━━━━━━━━━━━\u001b[0m\u001b[37m\u001b[0m \u001b[1m0s\u001b[0m 1ms/step\n"
     ]
    },
    {
     "data": {
      "text/plain": [
       "(<Figure size 640x480 with 1 Axes>,\n",
       " <Axes: xlabel='predicted label', ylabel='true label'>)"
      ]
     },
     "execution_count": 7,
     "metadata": {},
     "output_type": "execute_result"
    },
    {
     "data": {
      "image/png": "[encoded data removed]",
      "text/plain": [
       "<Figure size 640x480 with 1 Axes>"
      ]
     },
     "metadata": {},
     "output_type": "display_data"
    }
   ],
   "source": [
    "import numpy as np\n",
    "\n",
    "from sklearn.metrics import confusion_matrix\n",
    "from mlxtend.plotting import plot_confusion_matrix\n",
    "\n",
    "\n",
    "y_pred_2 = model.predict(X_valid)\n",
    "y_pred_labels_2 = np.argmax(y_pred_2, axis=1)\n",
    "\n",
    "y_test_labels = np.argmax(y_valid, axis=1)\n",
    "\n",
    "confusion_mat = confusion_matrix(y_test_labels,y_pred_labels_2)\n",
    "plot_confusion_matrix(confusion_mat)"
   ]
  },
  {
   "cell_type": "code",
   "execution_count": 8,
   "id": "b0cb8b1d",
   "metadata": {},
   "outputs": [
    {
     "data": {
      "text/plain": [
       "['ExcessAir', 'Fouling', 'Lean', 'Nominal', 'Scaling']"
      ]
     },
     "execution_count": 8,
     "metadata": {},
     "output_type": "execute_result"
    }
   ],
   "source": [
    "[output[6:] for output in one_hot_encoder.get_feature_names_out(['Class'])] # Remove `Class_` from the beginning"
   ]
  }
 ],
 "metadata": {
  "kernelspec": {
   "display_name": "Python 3 (ipykernel)",
   "language": "python",
   "name": "python3"
  },
  "language_info": {
   "codemirror_mode": {
    "name": "ipython",
    "version": 3
   },
   "file_extension": ".py",
   "mimetype": "text/x-python",
   "name": "python",
   "nbconvert_exporter": "python",
   "pygments_lexer": "ipython3",
   "version": "3.11.11"
  }
 },
 "nbformat": 4,
 "nbformat_minor": 5
}
